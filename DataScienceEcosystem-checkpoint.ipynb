{
 "cells": [
  {
   "cell_type": "markdown",
   "id": "406de819-82d9-40d8-b0f9-309273abdbf1",
   "metadata": {},
   "source": [
    "# Data Science Tools and Ecosystem"
   ]
  },
  {
   "cell_type": "markdown",
   "id": "f2906847-2c45-456f-96a0-73d600c2c295",
   "metadata": {},
   "source": [
    "### In this notebook, Data Science Tools and Ecosystem are summarized."
   ]
  },
  {
   "cell_type": "markdown",
   "id": "83567de3-3500-4454-ad4f-5d4f909717e3",
   "metadata": {},
   "source": [
    "#### Objectives: \n",
    "<ul>\n",
    "    <li>Some of the popular languages that Data Scientist Use </li>\n",
    "    <li>Some of commonly used libraries used by Data Scientists </li>\n",
    "    <li>some of open source developement envirenement for Data scientist </li>\n",
    "    <li>some examples of evaluationg arithmetics in python </li>\n",
    "</ul>"
   ]
  },
  {
   "cell_type": "markdown",
   "id": "06868604-92fa-48de-a55f-024c9d1814a5",
   "metadata": {},
   "source": [
    "##### Some of the popular languages that Data Scientists use are:\n",
    "1 - python <br>\n",
    "2 - R <br>\n",
    "3 - Julia <br>\n",
    "4 - C++<br>"
   ]
  },
  {
   "cell_type": "markdown",
   "id": "e4ef6b84-0cd0-4925-8370-1b111c8b5519",
   "metadata": {},
   "source": [
    "##### Some of the commonly used libraries used by Data Scientists include: \n",
    "1 - scikitlearn <br>\n",
    "2 - Pandas <br>\n",
    "3 - numpy <br>\n",
    "4 - keras <br>\n",
    "5 - tenserflow <br> \n",
    "6 - pytorch"
   ]
  },
  {
   "cell_type": "markdown",
   "id": "64ff9ef3-0fca-4b55-b4b9-bca42b8b62f7",
   "metadata": {},
   "source": [
    "\n",
    "| Data Science Tools |\n",
    "| --- |\n",
    "| Rstudio |\n",
    "| Jupyter Notebook |\n",
    "| Apche Spark |"
   ]
  },
  {
   "cell_type": "markdown",
   "id": "6d41b13e-1ad7-4dfe-b1af-1eadfee44e1a",
   "metadata": {},
   "source": [
    "### Below are a few examples of evaluating arithmetic expressions in Python.\n",
    "+ Addition (+)\n",
    "  x = 3 + 4 \n",
    "+ Subtraction (-)\n",
    "  x = 10 - 2\n",
    "+ Multiplication (\\*)\n",
    "  z = 2*3\n",
    "+ Division (/)\n",
    "  y = x*z\n",
    "+ Modulus (%), which returns the remainder of a division operation"
   ]
  },
  {
   "cell_type": "code",
   "execution_count": 1,
   "id": "ecdcfe51-51bc-46ef-a2d2-e0543563b0e5",
   "metadata": {},
   "outputs": [
    {
     "data": {
      "text/plain": [
       "17"
      ]
     },
     "execution_count": 1,
     "metadata": {},
     "output_type": "execute_result"
    }
   ],
   "source": [
    "# This a simple arithmetic expression to mutiply then add integers\n",
    "(3*4)+5"
   ]
  },
  {
   "cell_type": "code",
   "execution_count": 5,
   "id": "ca98af60-b2c6-4aa6-8198-6a6351844a56",
   "metadata": {},
   "outputs": [
    {
     "data": {
      "text/plain": [
       "3.3333333333333335"
      ]
     },
     "execution_count": 5,
     "metadata": {},
     "output_type": "execute_result"
    }
   ],
   "source": [
    "# This will convert 200 minutes to hours by diving by 60\n",
    "200 / 60 "
   ]
  },
  {
   "cell_type": "markdown",
   "id": "fe68535b-dada-49e9-a40b-4570587bbdc1",
   "metadata": {},
   "source": [
    "## Author\n",
    "Amine Naciri"
   ]
  },
  {
   "cell_type": "code",
   "execution_count": null,
   "id": "b15ec2de-8d58-4b39-bcef-bc0cb7b522aa",
   "metadata": {},
   "outputs": [],
   "source": []
  }
 ],
 "metadata": {
  "kernelspec": {
   "display_name": "Python 3 (ipykernel)",
   "language": "python",
   "name": "python3"
  },
  "language_info": {
   "codemirror_mode": {
    "name": "ipython",
    "version": 3
   },
   "file_extension": ".py",
   "mimetype": "text/x-python",
   "name": "python",
   "nbconvert_exporter": "python",
   "pygments_lexer": "ipython3",
   "version": "3.10.11"
  }
 },
 "nbformat": 4,
 "nbformat_minor": 5
}
